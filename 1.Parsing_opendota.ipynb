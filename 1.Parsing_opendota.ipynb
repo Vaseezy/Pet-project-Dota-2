{
 "cells": [
  {
   "cell_type": "code",
   "execution_count": 3,
   "id": "c55dc58a-2832-4bd3-b2dc-537403153a38",
   "metadata": {},
   "outputs": [],
   "source": [
    "import opendota\n",
    "import datetime\n",
    "import pandas as pd\n",
    "import json"
   ]
  },
  {
   "cell_type": "markdown",
   "id": "23f0854e-48e7-410c-8444-6b52cf355053",
   "metadata": {},
   "source": [
    "Данный ноутбук служит для извлечения информации о матчах с ресурса opendota c помощью библиотеки pyopendota (Документация: https://pyopendota.readthedocs.io.)"
   ]
  },
  {
   "cell_type": "markdown",
   "id": "87e59f7f-cb2f-4b0f-8da7-de6d48239557",
   "metadata": {},
   "source": [
    "Данный ноутбук нужен, если вы хотите актуализировать матчи. В файле dota_dataset.csv собраны результаты матчей с 01.10.24 до 10.12.24."
   ]
  },
  {
   "cell_type": "markdown",
   "id": "c3ea45d7-c00e-471c-85f8-f3be7e206f77",
   "metadata": {},
   "source": [
    "Так же есть ограничение на ограничение количества записей (4000), поэтому ниже 3 запроса, а не 1"
   ]
  },
  {
   "cell_type": "code",
   "execution_count": 8,
   "id": "43e17595-00e3-4233-b803-8f28649f43a2",
   "metadata": {},
   "outputs": [],
   "source": [
    "client = opendota.OpenDota()"
   ]
  },
  {
   "cell_type": "code",
   "execution_count": 9,
   "id": "dfc46a1b-ec1d-49b5-b835-9616ba7a529e",
   "metadata": {},
   "outputs": [],
   "source": [
    "df1 = pd.DataFrame(client.explorer('select * from matches where start_time > 1727730000 limit 4000'))"
   ]
  },
  {
   "cell_type": "code",
   "execution_count": 10,
   "id": "ae393ca6-21fb-46bb-924d-9251e05a5b26",
   "metadata": {},
   "outputs": [],
   "source": [
    "df2 = pd.DataFrame(client.explorer('select * from matches where start_time > 1730408400 limit 4000'))"
   ]
  },
  {
   "cell_type": "code",
   "execution_count": 11,
   "id": "eaa9ed2d-3353-4803-a71a-53127bd8e579",
   "metadata": {},
   "outputs": [],
   "source": [
    "df3 = pd.DataFrame(client.explorer('select * from matches where start_time > 1733000400 limit 4000'))"
   ]
  },
  {
   "cell_type": "code",
   "execution_count": 12,
   "id": "6c927dfc-76cb-4aa9-af13-e3862fe93fbe",
   "metadata": {},
   "outputs": [],
   "source": [
    "df4 = pd.DataFrame(client.explorer('select * from matches where start_time > 1725138000 limit 4000'))"
   ]
  },
  {
   "cell_type": "code",
   "execution_count": 13,
   "id": "8bbb22e3-c748-4a33-8cb6-9883c7242a75",
   "metadata": {},
   "outputs": [
    {
     "data": {
      "text/html": [
       "<div>\n",
       "<style scoped>\n",
       "    .dataframe tbody tr th:only-of-type {\n",
       "        vertical-align: middle;\n",
       "    }\n",
       "\n",
       "    .dataframe tbody tr th {\n",
       "        vertical-align: top;\n",
       "    }\n",
       "\n",
       "    .dataframe thead th {\n",
       "        text-align: right;\n",
       "    }\n",
       "</style>\n",
       "<table border=\"1\" class=\"dataframe\">\n",
       "  <thead>\n",
       "    <tr style=\"text-align: right;\">\n",
       "      <th></th>\n",
       "      <th>match_id</th>\n",
       "      <th>match_seq_num</th>\n",
       "      <th>radiant_win</th>\n",
       "      <th>start_time</th>\n",
       "      <th>duration</th>\n",
       "      <th>tower_status_radiant</th>\n",
       "      <th>tower_status_dire</th>\n",
       "      <th>barracks_status_radiant</th>\n",
       "      <th>barracks_status_dire</th>\n",
       "      <th>cluster</th>\n",
       "      <th>...</th>\n",
       "      <th>radiant_xp_adv</th>\n",
       "      <th>teamfights</th>\n",
       "      <th>version</th>\n",
       "      <th>cosmetics</th>\n",
       "      <th>radiant_score</th>\n",
       "      <th>dire_score</th>\n",
       "      <th>draft_timings</th>\n",
       "      <th>series_id</th>\n",
       "      <th>series_type</th>\n",
       "      <th>replay_salt</th>\n",
       "    </tr>\n",
       "  </thead>\n",
       "  <tbody>\n",
       "    <tr>\n",
       "      <th>0</th>\n",
       "      <td>7923029379</td>\n",
       "      <td>6665974850</td>\n",
       "      <td>True</td>\n",
       "      <td>1725140404</td>\n",
       "      <td>1298</td>\n",
       "      <td>1983</td>\n",
       "      <td>1844</td>\n",
       "      <td>63</td>\n",
       "      <td>63</td>\n",
       "      <td>381</td>\n",
       "      <td>...</td>\n",
       "      <td>[0, 130, -107, -141, -303, -164, 245, 664, 912...</td>\n",
       "      <td>[{'start': 353, 'end': 386, 'last_death': 371,...</td>\n",
       "      <td>21.0</td>\n",
       "      <td>{'630': 132, '647': 129, '4953': 1, '7095': 1,...</td>\n",
       "      <td>26</td>\n",
       "      <td>12</td>\n",
       "      <td>[{'order': 1, 'pick': False, 'active_team': 3,...</td>\n",
       "      <td>902569</td>\n",
       "      <td>1</td>\n",
       "      <td>520674307</td>\n",
       "    </tr>\n",
       "    <tr>\n",
       "      <th>1</th>\n",
       "      <td>7923037228</td>\n",
       "      <td>6665972743</td>\n",
       "      <td>False</td>\n",
       "      <td>1725140668</td>\n",
       "      <td>1648</td>\n",
       "      <td>1840</td>\n",
       "      <td>2038</td>\n",
       "      <td>62</td>\n",
       "      <td>63</td>\n",
       "      <td>271</td>\n",
       "      <td>...</td>\n",
       "      <td>[0, 215, -376, -708, -573, -894, -1443, -659, ...</td>\n",
       "      <td>[{'start': 836, 'end': 880, 'last_death': 865,...</td>\n",
       "      <td>21.0</td>\n",
       "      <td>{'4383': 129, '6501': 3, '6502': 3, '6503': 3,...</td>\n",
       "      <td>12</td>\n",
       "      <td>29</td>\n",
       "      <td>[{'order': 1, 'pick': False, 'active_team': 3,...</td>\n",
       "      <td>902588</td>\n",
       "      <td>1</td>\n",
       "      <td>1845593955</td>\n",
       "    </tr>\n",
       "  </tbody>\n",
       "</table>\n",
       "<p>2 rows × 40 columns</p>\n",
       "</div>"
      ],
      "text/plain": [
       "     match_id  match_seq_num  radiant_win  start_time  duration  \\\n",
       "0  7923029379     6665974850         True  1725140404      1298   \n",
       "1  7923037228     6665972743        False  1725140668      1648   \n",
       "\n",
       "   tower_status_radiant  tower_status_dire  barracks_status_radiant  \\\n",
       "0                  1983               1844                       63   \n",
       "1                  1840               2038                       62   \n",
       "\n",
       "   barracks_status_dire  cluster  ...  \\\n",
       "0                    63      381  ...   \n",
       "1                    63      271  ...   \n",
       "\n",
       "                                      radiant_xp_adv  \\\n",
       "0  [0, 130, -107, -141, -303, -164, 245, 664, 912...   \n",
       "1  [0, 215, -376, -708, -573, -894, -1443, -659, ...   \n",
       "\n",
       "                                          teamfights  version  \\\n",
       "0  [{'start': 353, 'end': 386, 'last_death': 371,...     21.0   \n",
       "1  [{'start': 836, 'end': 880, 'last_death': 865,...     21.0   \n",
       "\n",
       "                                           cosmetics radiant_score dire_score  \\\n",
       "0  {'630': 132, '647': 129, '4953': 1, '7095': 1,...            26         12   \n",
       "1  {'4383': 129, '6501': 3, '6502': 3, '6503': 3,...            12         29   \n",
       "\n",
       "                                       draft_timings  series_id series_type  \\\n",
       "0  [{'order': 1, 'pick': False, 'active_team': 3,...     902569           1   \n",
       "1  [{'order': 1, 'pick': False, 'active_team': 3,...     902588           1   \n",
       "\n",
       "   replay_salt  \n",
       "0    520674307  \n",
       "1   1845593955  \n",
       "\n",
       "[2 rows x 40 columns]"
      ]
     },
     "execution_count": 13,
     "metadata": {},
     "output_type": "execute_result"
    }
   ],
   "source": [
    "df4.head(2)"
   ]
  },
  {
   "cell_type": "code",
   "execution_count": 7,
   "id": "c9610a53-29f4-48af-a375-cd9ada51b0bb",
   "metadata": {},
   "outputs": [
    {
     "data": {
      "text/plain": [
       "1725138000.0"
      ]
     },
     "execution_count": 7,
     "metadata": {},
     "output_type": "execute_result"
    }
   ],
   "source": [
    "date = datetime.datetime(2024, 9, 1)\n",
    "date.timestamp()"
   ]
  },
  {
   "cell_type": "code",
   "execution_count": 14,
   "id": "7a66ef46-26fb-4bdc-bb83-5d1f2c64896b",
   "metadata": {},
   "outputs": [],
   "source": [
    "df_dota = pd.concat([df1, df2, df3, df4], ignore_index=True)"
   ]
  },
  {
   "cell_type": "code",
   "execution_count": 15,
   "id": "ddd0d4af-15d6-4f99-a08a-0712f9583fc6",
   "metadata": {},
   "outputs": [
    {
     "data": {
      "text/plain": [
       "(16000, 40)"
      ]
     },
     "execution_count": 15,
     "metadata": {},
     "output_type": "execute_result"
    }
   ],
   "source": [
    "df_dota.shape"
   ]
  },
  {
   "cell_type": "code",
   "execution_count": 16,
   "id": "73a41071-f9aa-4499-b10e-4ebb0f58b37b",
   "metadata": {},
   "outputs": [],
   "source": [
    "df_dota = df_dota.drop_duplicates(subset=['match_id'], keep='first')"
   ]
  },
  {
   "cell_type": "code",
   "execution_count": 17,
   "id": "4e647e66-dd5e-45b2-8504-4309883b79e8",
   "metadata": {},
   "outputs": [],
   "source": [
    "df_dota = df_dota[df_dota['game_mode'] == 2]"
   ]
  },
  {
   "cell_type": "code",
   "execution_count": 18,
   "id": "3c3951f2-2d0e-4350-a502-01f99d05e920",
   "metadata": {},
   "outputs": [],
   "source": [
    "df_dota.to_csv('dota_dataset.csv', index=False)"
   ]
  },
  {
   "cell_type": "code",
   "execution_count": null,
   "id": "616ba5cb-6098-4835-bf38-b20852a6ae6c",
   "metadata": {},
   "outputs": [],
   "source": []
  },
  {
   "cell_type": "code",
   "execution_count": null,
   "id": "01186453-2c4e-4967-b440-34029145acfd",
   "metadata": {},
   "outputs": [],
   "source": []
  },
  {
   "cell_type": "code",
   "execution_count": 26,
   "id": "eb556dfe-1155-45e6-b31e-e4feaec39952",
   "metadata": {},
   "outputs": [],
   "source": [
    "df_heroes = pd.DataFrame(client.explorer('select * from heroes'))"
   ]
  },
  {
   "cell_type": "code",
   "execution_count": 27,
   "id": "e64e16ff-4c5a-4a70-b605-922279e5352b",
   "metadata": {},
   "outputs": [],
   "source": [
    "df_heroes.to_csv('heroes.csv', index=False)"
   ]
  },
  {
   "cell_type": "code",
   "execution_count": null,
   "id": "fdc99901-b6c9-4a1a-b679-fc10f25ef62a",
   "metadata": {},
   "outputs": [],
   "source": []
  }
 ],
 "metadata": {
  "kernelspec": {
   "display_name": "Python 3 (ipykernel)",
   "language": "python",
   "name": "python3"
  },
  "language_info": {
   "codemirror_mode": {
    "name": "ipython",
    "version": 3
   },
   "file_extension": ".py",
   "mimetype": "text/x-python",
   "name": "python",
   "nbconvert_exporter": "python",
   "pygments_lexer": "ipython3",
   "version": "3.12.7"
  }
 },
 "nbformat": 4,
 "nbformat_minor": 5
}
