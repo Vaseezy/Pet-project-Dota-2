{
 "cells": [
  {
   "cell_type": "code",
   "execution_count": 1,
   "id": "c0f00191-7ac2-40ac-bd89-6f6e135dddbd",
   "metadata": {},
   "outputs": [],
   "source": [
    "import numpy as np\n",
    "import pandas as pd\n",
    "\n",
    "from sklearn.linear_model import LogisticRegression\n",
    "from sklearn.metrics import roc_auc_score, f1_score\n",
    "from sklearn.model_selection import train_test_split, StratifiedKFold, KFold\n",
    "from sklearn.ensemble import RandomForestClassifier\n",
    "from sklearn.calibration import CalibratedClassifierCV\n",
    "from lightgbm import LGBMClassifier, Dataset\n",
    "from catboost import CatBoostClassifier\n",
    "\n",
    "from get_metrics1 import get_metrics_classification\n",
    "import matplotlib.pyplot as plt\n",
    "import seaborn as sns\n",
    "from scipy import stats\n",
    "from SupFunctions import check_overfitting_classification\n",
    "import warnings\n",
    "from warnings import simplefilter\n",
    "warnings.filterwarnings(\"ignore\")\n",
    "simplefilter(\"ignore\", category=RuntimeWarning)\n",
    "\n",
    "RAND = 10\n",
    "N_FOLD = 5\n"
   ]
  },
  {
   "cell_type": "code",
   "execution_count": 2,
   "id": "71454fbf-bf40-4e6f-b6ad-b2639220bb69",
   "metadata": {},
   "outputs": [],
   "source": [
    "df_dota = pd.read_csv('df_dota.csv')"
   ]
  },
  {
   "cell_type": "code",
   "execution_count": 3,
   "id": "599875ca-693e-4e9c-9ecd-a090a2ecce2e",
   "metadata": {},
   "outputs": [
    {
     "data": {
      "text/html": [
       "<div>\n",
       "<style scoped>\n",
       "    .dataframe tbody tr th:only-of-type {\n",
       "        vertical-align: middle;\n",
       "    }\n",
       "\n",
       "    .dataframe tbody tr th {\n",
       "        vertical-align: top;\n",
       "    }\n",
       "\n",
       "    .dataframe thead th {\n",
       "        text-align: right;\n",
       "    }\n",
       "</style>\n",
       "<table border=\"1\" class=\"dataframe\">\n",
       "  <thead>\n",
       "    <tr style=\"text-align: right;\">\n",
       "      <th></th>\n",
       "      <th>match_id</th>\n",
       "      <th>radiant_win</th>\n",
       "      <th>duration</th>\n",
       "      <th>Support</th>\n",
       "      <th>Initiator</th>\n",
       "      <th>Pusher</th>\n",
       "      <th>Escape</th>\n",
       "      <th>Nuker</th>\n",
       "      <th>Carry</th>\n",
       "      <th>Durable</th>\n",
       "      <th>Disabler</th>\n",
       "      <th>early_game_gold_adv</th>\n",
       "      <th>early_game_xp_adv</th>\n",
       "      <th>radiant_bottom_tier_1</th>\n",
       "      <th>radiant_middle_tier_1</th>\n",
       "      <th>radiant_top_tier_1</th>\n",
       "      <th>dire_bottom_tier_1</th>\n",
       "      <th>dire_middle_tier_1</th>\n",
       "      <th>dire_top_tier_1</th>\n",
       "    </tr>\n",
       "  </thead>\n",
       "  <tbody>\n",
       "    <tr>\n",
       "      <th>0</th>\n",
       "      <td>7967435715</td>\n",
       "      <td>1</td>\n",
       "      <td>35</td>\n",
       "      <td>3</td>\n",
       "      <td>2</td>\n",
       "      <td>1</td>\n",
       "      <td>3</td>\n",
       "      <td>4</td>\n",
       "      <td>3</td>\n",
       "      <td>2</td>\n",
       "      <td>5</td>\n",
       "      <td>3844</td>\n",
       "      <td>1721</td>\n",
       "      <td>0</td>\n",
       "      <td>0</td>\n",
       "      <td>0</td>\n",
       "      <td>0</td>\n",
       "      <td>0</td>\n",
       "      <td>0</td>\n",
       "    </tr>\n",
       "    <tr>\n",
       "      <th>1</th>\n",
       "      <td>7967438032</td>\n",
       "      <td>1</td>\n",
       "      <td>41</td>\n",
       "      <td>2</td>\n",
       "      <td>4</td>\n",
       "      <td>2</td>\n",
       "      <td>1</td>\n",
       "      <td>5</td>\n",
       "      <td>3</td>\n",
       "      <td>3</td>\n",
       "      <td>5</td>\n",
       "      <td>1238</td>\n",
       "      <td>484</td>\n",
       "      <td>0</td>\n",
       "      <td>0</td>\n",
       "      <td>0</td>\n",
       "      <td>0</td>\n",
       "      <td>0</td>\n",
       "      <td>0</td>\n",
       "    </tr>\n",
       "    <tr>\n",
       "      <th>2</th>\n",
       "      <td>7967459521</td>\n",
       "      <td>0</td>\n",
       "      <td>28</td>\n",
       "      <td>2</td>\n",
       "      <td>2</td>\n",
       "      <td>2</td>\n",
       "      <td>3</td>\n",
       "      <td>2</td>\n",
       "      <td>4</td>\n",
       "      <td>1</td>\n",
       "      <td>3</td>\n",
       "      <td>-380</td>\n",
       "      <td>29</td>\n",
       "      <td>0</td>\n",
       "      <td>0</td>\n",
       "      <td>1</td>\n",
       "      <td>1</td>\n",
       "      <td>0</td>\n",
       "      <td>0</td>\n",
       "    </tr>\n",
       "    <tr>\n",
       "      <th>3</th>\n",
       "      <td>7967484383</td>\n",
       "      <td>0</td>\n",
       "      <td>26</td>\n",
       "      <td>0</td>\n",
       "      <td>3</td>\n",
       "      <td>1</td>\n",
       "      <td>4</td>\n",
       "      <td>4</td>\n",
       "      <td>1</td>\n",
       "      <td>2</td>\n",
       "      <td>3</td>\n",
       "      <td>-2797</td>\n",
       "      <td>-2048</td>\n",
       "      <td>0</td>\n",
       "      <td>0</td>\n",
       "      <td>0</td>\n",
       "      <td>0</td>\n",
       "      <td>0</td>\n",
       "      <td>0</td>\n",
       "    </tr>\n",
       "    <tr>\n",
       "      <th>4</th>\n",
       "      <td>7967484981</td>\n",
       "      <td>0</td>\n",
       "      <td>27</td>\n",
       "      <td>2</td>\n",
       "      <td>3</td>\n",
       "      <td>2</td>\n",
       "      <td>2</td>\n",
       "      <td>5</td>\n",
       "      <td>3</td>\n",
       "      <td>4</td>\n",
       "      <td>5</td>\n",
       "      <td>-1454</td>\n",
       "      <td>-2202</td>\n",
       "      <td>0</td>\n",
       "      <td>0</td>\n",
       "      <td>0</td>\n",
       "      <td>0</td>\n",
       "      <td>1</td>\n",
       "      <td>0</td>\n",
       "    </tr>\n",
       "  </tbody>\n",
       "</table>\n",
       "</div>"
      ],
      "text/plain": [
       "     match_id  radiant_win  duration  Support  Initiator  Pusher  Escape  \\\n",
       "0  7967435715            1        35        3          2       1       3   \n",
       "1  7967438032            1        41        2          4       2       1   \n",
       "2  7967459521            0        28        2          2       2       3   \n",
       "3  7967484383            0        26        0          3       1       4   \n",
       "4  7967484981            0        27        2          3       2       2   \n",
       "\n",
       "   Nuker  Carry  Durable  Disabler  early_game_gold_adv  early_game_xp_adv  \\\n",
       "0      4      3        2         5                 3844               1721   \n",
       "1      5      3        3         5                 1238                484   \n",
       "2      2      4        1         3                 -380                 29   \n",
       "3      4      1        2         3                -2797              -2048   \n",
       "4      5      3        4         5                -1454              -2202   \n",
       "\n",
       "   radiant_bottom_tier_1  radiant_middle_tier_1  radiant_top_tier_1  \\\n",
       "0                      0                      0                   0   \n",
       "1                      0                      0                   0   \n",
       "2                      0                      0                   1   \n",
       "3                      0                      0                   0   \n",
       "4                      0                      0                   0   \n",
       "\n",
       "   dire_bottom_tier_1  dire_middle_tier_1  dire_top_tier_1  \n",
       "0                   0                   0                0  \n",
       "1                   0                   0                0  \n",
       "2                   1                   0                0  \n",
       "3                   0                   0                0  \n",
       "4                   0                   1                0  "
      ]
     },
     "execution_count": 3,
     "metadata": {},
     "output_type": "execute_result"
    }
   ],
   "source": [
    "df_dota.head()"
   ]
  },
  {
   "cell_type": "code",
   "execution_count": 4,
   "id": "e28bbd48-a939-4056-8c7b-e11d1d56fde4",
   "metadata": {},
   "outputs": [
    {
     "name": "stdout",
     "output_type": "stream",
     "text": [
      "<class 'pandas.core.frame.DataFrame'>\n",
      "RangeIndex: 10516 entries, 0 to 10515\n",
      "Data columns (total 19 columns):\n",
      " #   Column                 Non-Null Count  Dtype\n",
      "---  ------                 --------------  -----\n",
      " 0   match_id               10516 non-null  int64\n",
      " 1   radiant_win            10516 non-null  int64\n",
      " 2   duration               10516 non-null  int64\n",
      " 3   Support                10516 non-null  int64\n",
      " 4   Initiator              10516 non-null  int64\n",
      " 5   Pusher                 10516 non-null  int64\n",
      " 6   Escape                 10516 non-null  int64\n",
      " 7   Nuker                  10516 non-null  int64\n",
      " 8   Carry                  10516 non-null  int64\n",
      " 9   Durable                10516 non-null  int64\n",
      " 10  Disabler               10516 non-null  int64\n",
      " 11  early_game_gold_adv    10516 non-null  int64\n",
      " 12  early_game_xp_adv      10516 non-null  int64\n",
      " 13  radiant_bottom_tier_1  10516 non-null  int64\n",
      " 14  radiant_middle_tier_1  10516 non-null  int64\n",
      " 15  radiant_top_tier_1     10516 non-null  int64\n",
      " 16  dire_bottom_tier_1     10516 non-null  int64\n",
      " 17  dire_middle_tier_1     10516 non-null  int64\n",
      " 18  dire_top_tier_1        10516 non-null  int64\n",
      "dtypes: int64(19)\n",
      "memory usage: 1.5 MB\n"
     ]
    }
   ],
   "source": [
    "df_dota.info()"
   ]
  },
  {
   "cell_type": "markdown",
   "id": "33a23754-083e-40b9-8da4-8441065719f6",
   "metadata": {},
   "source": [
    "# Split data"
   ]
  },
  {
   "cell_type": "markdown",
   "id": "b3b98fb3-c784-461c-abc9-c48a03620d11",
   "metadata": {},
   "source": [
    "Как было отмечено в EDA анализе, дизбаланс классов отсутствует."
   ]
  },
  {
   "cell_type": "code",
   "execution_count": 5,
   "id": "b9a154ca-2c97-4427-ba6b-3a1d39c30589",
   "metadata": {},
   "outputs": [],
   "source": [
    "X = df_dota.drop(['radiant_win', 'match_id'], axis=1)\n",
    "y = df_dota['radiant_win']\n",
    "\n",
    "X_train, X_test, y_train, y_test = train_test_split(X, y, \n",
    "                                                    test_size=0.2,\n",
    "                                                    shuffle=True,\n",
    "                                                    stratify=y, \n",
    "                                                    random_state=RAND)"
   ]
  },
  {
   "cell_type": "code",
   "execution_count": 6,
   "id": "8d517e48-c040-4d43-a798-6975bfb50a45",
   "metadata": {},
   "outputs": [],
   "source": [
    "meta_X = pd.DataFrame(index=X_train.index)  # Создаем DataFrame с теми же индексами, что и X_train\n",
    "meta_X_test = pd.DataFrame(index=X_test.index)"
   ]
  },
  {
   "cell_type": "markdown",
   "id": "e75792d8-94d4-42e2-928b-162837cdfce5",
   "metadata": {},
   "source": [
    "Для исследования были выбраны модели LightGBM, Catboost и RandomForest, подбор параметров будет реализован для моделей LightGBM, Catboost так как они лучше всего справляются с категориальными данными. RandomForestClassifier был выбран в качестве доп модели для стэкинга."
   ]
  },
  {
   "cell_type": "markdown",
   "id": "0a39fcee-6f34-4505-a90c-9435fd62cf42",
   "metadata": {},
   "source": [
    "## Random Forest Baseline"
   ]
  },
  {
   "cell_type": "markdown",
   "id": "8814a124-0422-4d70-91b0-0c881d5e2ac9",
   "metadata": {},
   "source": [
    "1. Обучим baseline Random Forest на HoldOut:"
   ]
  },
  {
   "cell_type": "code",
   "execution_count": 7,
   "id": "85705dfb-5606-4e08-90d7-660fbd175f7b",
   "metadata": {},
   "outputs": [
    {
     "name": "stdout",
     "output_type": "stream",
     "text": [
      "Fold: 1 F1-SCORE Validation 0.715\n",
      "---\n",
      "Fold: 2 F1-SCORE Validation 0.700\n",
      "---\n",
      "Fold: 3 F1-SCORE Validation 0.707\n",
      "---\n",
      "Fold: 4 F1-SCORE Validation 0.712\n",
      "---\n",
      "Fold: 5 F1-SCORE Validation 0.715\n",
      "---\n",
      "F1-SCORE mean oof: 0.710, std: 0.006\n"
     ]
    }
   ],
   "source": [
    "score_oof = []\n",
    "finish_test_preds = []\n",
    "finish_test_preds_proba = []\n",
    "\n",
    "skf = StratifiedKFold(n_splits=N_FOLD, random_state=RAND, shuffle=True)\n",
    "for fold, (train_index, test_index) in enumerate(skf.split(X_train, y_train)):\n",
    "    X_train_, X_val = X_train.iloc[train_index], X_train.iloc[test_index]\n",
    "    y_train_, y_val = y_train.iloc[train_index], y_train.iloc[test_index]\n",
    "\n",
    "    model = RandomForestClassifier(random_state=RAND) \n",
    "\n",
    "    model.fit(X_train_, y_train_)\n",
    "\n",
    "    # oof\n",
    "    preds_val = model.predict(X_val)\n",
    "    score_oof.append(f1_score(y_val, preds_val))\n",
    "\n",
    "    print(\"Fold:\", fold + 1, \"F1-SCORE Validation %.3f\" % f1_score(y_val, preds_val))\n",
    "    print(\"---\")\n",
    "\n",
    "    # holdout\n",
    "    preds_test = model.predict(X_test)\n",
    "    preds_test_proba = model.predict_proba(X_test)[:, 1]\n",
    "\n",
    "    finish_test_preds.append(preds_test)\n",
    "    finish_test_preds_proba.append(preds_test_proba)\n",
    "\n",
    "    meta_X.loc[X_val.index, 'rf_01'] = model.predict_proba(X_val)[:, 1] \n",
    "\n",
    "print('F1-SCORE mean oof: %.3f, std: %.3f' % (np.mean(score_oof), np.std(score_oof)))\n",
    "\n",
    "meta_X_test['rf_01'] = np.mean(finish_test_preds_proba, axis=0)"
   ]
  },
  {
   "cell_type": "markdown",
   "id": "a5dceed0-4bfa-4063-b801-7df244c380df",
   "metadata": {},
   "source": [
    "2. Получим **предсказанные значения на Holdout** данных при помощи усреднения значений (для вероятностй) и моды (для меток классов), полученных при обучении на фолдах и выведем основные метрики."
   ]
  },
  {
   "cell_type": "code",
   "execution_count": 8,
   "id": "1b7e194d-a269-4456-90ec-a6b9e1638712",
   "metadata": {},
   "outputs": [
    {
     "name": "stdout",
     "output_type": "stream",
     "text": [
      "F1-macro mean OOF: 0.710, std: 0.006\n",
      "F1-macro HOLDOUT: 0.723\n"
     ]
    }
   ],
   "source": [
    "# Находим моду по классам\n",
    "test_pred = stats.mode(np.column_stack(finish_test_preds), axis=1)[0]\n",
    "\n",
    "# Находим среднее по вероятностям\n",
    "test_pred_proba = np.mean(finish_test_preds_proba, axis=0)\n",
    "\n",
    "# Вычисляем F1-макро для валидации (OOF)\n",
    "print('F1-macro mean OOF: %.3f, std: %.3f' %\n",
    "      (np.mean(score_oof), np.std(score_oof)))\n",
    "\n",
    "# Вычисляем F1-макро для тестового набора\n",
    "f1_test = f1_score(y_test, test_pred, average='macro')\n",
    "print('F1-macro HOLDOUT: %.3f' % f1_test)"
   ]
  },
  {
   "cell_type": "code",
   "execution_count": 9,
   "id": "60d6385d-113c-4cbb-8e1f-d81bb4a54dbf",
   "metadata": {},
   "outputs": [
    {
     "data": {
      "text/html": [
       "<div>\n",
       "<style scoped>\n",
       "    .dataframe tbody tr th:only-of-type {\n",
       "        vertical-align: middle;\n",
       "    }\n",
       "\n",
       "    .dataframe tbody tr th {\n",
       "        vertical-align: top;\n",
       "    }\n",
       "\n",
       "    .dataframe thead th {\n",
       "        text-align: right;\n",
       "    }\n",
       "</style>\n",
       "<table border=\"1\" class=\"dataframe\">\n",
       "  <thead>\n",
       "    <tr style=\"text-align: right;\">\n",
       "      <th></th>\n",
       "      <th>model</th>\n",
       "      <th>Accuracy</th>\n",
       "      <th>ROC_AUC</th>\n",
       "      <th>Logloss</th>\n",
       "      <th>Precision</th>\n",
       "      <th>Recall</th>\n",
       "      <th>f1</th>\n",
       "    </tr>\n",
       "  </thead>\n",
       "  <tbody>\n",
       "    <tr>\n",
       "      <th>0</th>\n",
       "      <td>Random Forest baseline Holdout</td>\n",
       "      <td>0.723859</td>\n",
       "      <td>0.819073</td>\n",
       "      <td>0.499654</td>\n",
       "      <td>0.739712</td>\n",
       "      <td>0.686724</td>\n",
       "      <td>0.712234</td>\n",
       "    </tr>\n",
       "  </tbody>\n",
       "</table>\n",
       "</div>"
      ],
      "text/plain": [
       "                            model  Accuracy   ROC_AUC   Logloss  Precision  \\\n",
       "0  Random Forest baseline Holdout  0.723859  0.819073  0.499654   0.739712   \n",
       "\n",
       "     Recall        f1  \n",
       "0  0.686724  0.712234  "
      ]
     },
     "execution_count": 9,
     "metadata": {},
     "output_type": "execute_result"
    }
   ],
   "source": [
    "df_metrics = get_metrics_classification(y_test, \n",
    "                                        test_pred, \n",
    "                                        test_pred_proba,\n",
    "                                        \"Random Forest baseline Holdout\")\n",
    "df_metrics"
   ]
  },
  {
   "cell_type": "code",
   "execution_count": 10,
   "id": "63c73052-8112-4eeb-a0f3-bcfa145dad51",
   "metadata": {},
   "outputs": [
    {
     "name": "stdout",
     "output_type": "stream",
     "text": [
      "ROC-AUC train: 0.989\n",
      "ROC-AUC test: 0.811\n",
      "delta = 21.9 %\n"
     ]
    },
    {
     "data": {
      "text/plain": [
       "(0.9887220941686229, 0.8113296628923112, 21.864408438355984)"
      ]
     },
     "execution_count": 10,
     "metadata": {},
     "output_type": "execute_result"
    }
   ],
   "source": [
    "check_overfitting_classification(model,\n",
    "                  X_train,\n",
    "                  y_train,\n",
    "                  X_test,\n",
    "                  y_test)"
   ]
  },
  {
   "cell_type": "markdown",
   "id": "90efcd35-564d-43db-b73c-58f19f830544",
   "metadata": {},
   "source": [
    "## CatBoost Classifier Baseline"
   ]
  },
  {
   "cell_type": "markdown",
   "id": "092ec052-c686-477a-9fc5-06d692216a17",
   "metadata": {},
   "source": [
    "1. Обучим baseline Catboost на HoldOut:"
   ]
  },
  {
   "cell_type": "code",
   "execution_count": 11,
   "id": "ba44c8f3-e13f-4ef8-991c-4eb728b9962b",
   "metadata": {},
   "outputs": [
    {
     "name": "stdout",
     "output_type": "stream",
     "text": [
      "Fold: 1 F1-SCORE Validation 0.733\n",
      "---\n",
      "Fold: 2 F1-SCORE Validation 0.725\n",
      "---\n",
      "Fold: 3 F1-SCORE Validation 0.714\n",
      "---\n",
      "Fold: 4 F1-SCORE Validation 0.718\n",
      "---\n",
      "Fold: 5 F1-SCORE Validation 0.730\n",
      "---\n",
      "F1-SCORE mean oof: 0.724, std: 0.007\n"
     ]
    }
   ],
   "source": [
    "skf = StratifiedKFold(n_splits=N_FOLD, random_state=RAND, shuffle=True)\n",
    "score_oof = []\n",
    "finish_test_preds = []\n",
    "finish_test_preds_proba = []\n",
    "for fold, (train_index, test_index) in enumerate(skf.split(X_train, y_train)):\n",
    "    X_train_, X_val = X_train.iloc[train_index], X_train.iloc[test_index]\n",
    "    y_train_, y_val = y_train.iloc[train_index], y_train.iloc[test_index]\n",
    "\n",
    "    model = CatBoostClassifier(random_state=RAND, verbose=0) \n",
    "\n",
    "    model.fit(X_train_, y_train_, eval_set=(X_val, y_val), early_stopping_rounds=10)\n",
    "\n",
    "    # oof\n",
    "    preds_val = model.predict(X_val)\n",
    "    score_oof.append(f1_score(y_val, preds_val))\n",
    "\n",
    "    print(\"Fold:\", fold + 1, \"F1-SCORE Validation %.3f\" % f1_score(y_val, preds_val))\n",
    "    print(\"---\")\n",
    "\n",
    "    # holdout\n",
    "    preds_test = model.predict(X_test)\n",
    "    preds_test_proba = model.predict_proba(X_test)[:, 1]\n",
    "\n",
    "    finish_test_preds.append(preds_test)\n",
    "    finish_test_preds_proba.append(preds_test_proba)\n",
    "\n",
    "    meta_X.loc[X_val.index, 'catboost_01'] = model.predict_proba(X_val)[:, 1]  \n",
    "\n",
    "print('F1-SCORE mean oof: %.3f, std: %.3f' % (np.mean(score_oof), np.std(score_oof)))\n",
    "\n",
    "meta_X_test['catboost_01'] = np.mean(finish_test_preds_proba, axis=0) \n"
   ]
  },
  {
   "cell_type": "markdown",
   "id": "438f1542-9978-4dac-8ef5-0e9f77491ca9",
   "metadata": {},
   "source": [
    "2. Получим **предсказанные значения на Holdout** данных при помощи усреднения значений (для вероятностй) и моды (для меток классов), полученных при обучении на фолдах и выведем основные метрики."
   ]
  },
  {
   "cell_type": "code",
   "execution_count": 12,
   "id": "3033e729-11db-4a61-a585-a40f64038f15",
   "metadata": {},
   "outputs": [
    {
     "name": "stdout",
     "output_type": "stream",
     "text": [
      "F1-macro mean OOF: 0.724, std: 0.007\n",
      "F1-macro HOLDOUT: 0.721\n"
     ]
    }
   ],
   "source": [
    "# Находим моду по классам\n",
    "test_pred = stats.mode(np.column_stack(finish_test_preds), axis=1)[0]\n",
    "\n",
    "# Находим среднее по вероятностям\n",
    "test_pred_proba = np.mean(finish_test_preds_proba, axis=0)\n",
    "\n",
    "# Вычисляем F1-макро для валидации (OOF)\n",
    "print('F1-macro mean OOF: %.3f, std: %.3f' %\n",
    "      (np.mean(score_oof), np.std(score_oof)))\n",
    "\n",
    "# Вычисляем F1-макро для тестового набора\n",
    "f1_test = f1_score(y_test, test_pred, average='macro')\n",
    "print('F1-macro HOLDOUT: %.3f' % f1_test)"
   ]
  },
  {
   "cell_type": "code",
   "execution_count": 13,
   "id": "64fe5fe3-cf0e-4451-98bf-869de407f465",
   "metadata": {},
   "outputs": [
    {
     "data": {
      "text/html": [
       "<div>\n",
       "<style scoped>\n",
       "    .dataframe tbody tr th:only-of-type {\n",
       "        vertical-align: middle;\n",
       "    }\n",
       "\n",
       "    .dataframe tbody tr th {\n",
       "        vertical-align: top;\n",
       "    }\n",
       "\n",
       "    .dataframe thead th {\n",
       "        text-align: right;\n",
       "    }\n",
       "</style>\n",
       "<table border=\"1\" class=\"dataframe\">\n",
       "  <thead>\n",
       "    <tr style=\"text-align: right;\">\n",
       "      <th></th>\n",
       "      <th>model</th>\n",
       "      <th>Accuracy</th>\n",
       "      <th>ROC_AUC</th>\n",
       "      <th>Logloss</th>\n",
       "      <th>Precision</th>\n",
       "      <th>Recall</th>\n",
       "      <th>f1</th>\n",
       "    </tr>\n",
       "  </thead>\n",
       "  <tbody>\n",
       "    <tr>\n",
       "      <th>0</th>\n",
       "      <td>Random Forest baseline Holdout</td>\n",
       "      <td>0.723859</td>\n",
       "      <td>0.819073</td>\n",
       "      <td>0.499654</td>\n",
       "      <td>0.739712</td>\n",
       "      <td>0.686724</td>\n",
       "      <td>0.712234</td>\n",
       "    </tr>\n",
       "    <tr>\n",
       "      <th>0</th>\n",
       "      <td>Catboost baseline Holdout</td>\n",
       "      <td>0.721008</td>\n",
       "      <td>0.823945</td>\n",
       "      <td>0.494296</td>\n",
       "      <td>0.737603</td>\n",
       "      <td>0.681948</td>\n",
       "      <td>0.708685</td>\n",
       "    </tr>\n",
       "  </tbody>\n",
       "</table>\n",
       "</div>"
      ],
      "text/plain": [
       "                            model  Accuracy   ROC_AUC   Logloss  Precision  \\\n",
       "0  Random Forest baseline Holdout  0.723859  0.819073  0.499654   0.739712   \n",
       "0       Catboost baseline Holdout  0.721008  0.823945  0.494296   0.737603   \n",
       "\n",
       "     Recall        f1  \n",
       "0  0.686724  0.712234  \n",
       "0  0.681948  0.708685  "
      ]
     },
     "execution_count": 13,
     "metadata": {},
     "output_type": "execute_result"
    }
   ],
   "source": [
    "df_metrics = pd.concat([df_metrics, get_metrics_classification(y_test, \n",
    "                                        test_pred, \n",
    "                                        test_pred_proba,\n",
    "                                        \"Catboost baseline Holdout\")], axis=0)\n",
    "df_metrics"
   ]
  },
  {
   "cell_type": "code",
   "execution_count": 14,
   "id": "0f06e580-fd5d-43f6-a0b9-aee94ff51627",
   "metadata": {},
   "outputs": [
    {
     "name": "stdout",
     "output_type": "stream",
     "text": [
      "ROC-AUC train: 0.858\n",
      "ROC-AUC test: 0.824\n",
      "delta = 4.2 %\n"
     ]
    },
    {
     "data": {
      "text/plain": [
       "(0.8584798538163347, 0.8236661217932211, 4.2266800954882)"
      ]
     },
     "execution_count": 14,
     "metadata": {},
     "output_type": "execute_result"
    }
   ],
   "source": [
    "check_overfitting_classification(model,\n",
    "                  X_train,\n",
    "                  y_train,\n",
    "                  X_test,\n",
    "                  y_test)"
   ]
  },
  {
   "cell_type": "markdown",
   "id": "21c83c0f-447d-4c53-86b6-8d3f1d1cd196",
   "metadata": {},
   "source": [
    "## LGBM Classifier Baseline"
   ]
  },
  {
   "cell_type": "code",
   "execution_count": 15,
   "id": "a901b86b-3b00-4cf9-aa45-d3e84f124b7a",
   "metadata": {},
   "outputs": [
    {
     "name": "stdout",
     "output_type": "stream",
     "text": [
      "Fold: 1 F1-SCORE Validation 0.721\n",
      "---\n",
      "Fold: 2 F1-SCORE Validation 0.703\n",
      "---\n",
      "Fold: 3 F1-SCORE Validation 0.707\n",
      "---\n",
      "Fold: 4 F1-SCORE Validation 0.714\n",
      "---\n",
      "Fold: 5 F1-SCORE Validation 0.718\n",
      "---\n",
      "F1-SCORE mean oof: 0.713, std: 0.007\n"
     ]
    }
   ],
   "source": [
    "skf = StratifiedKFold(n_splits=N_FOLD, random_state=RAND, shuffle=True)\n",
    "score_oof = []\n",
    "finish_test_preds = []\n",
    "finish_test_preds_proba = []\n",
    "for fold, (train_index, test_index) in enumerate(skf.split(X_train, y_train)):\n",
    "    X_train_, X_val = X_train.iloc[train_index], X_train.iloc[test_index]\n",
    "    y_train_, y_val = y_train.iloc[train_index], y_train.iloc[test_index]\n",
    "\n",
    "    model = LGBMClassifier(objective='binary',\n",
    "                           random_state=RAND,\n",
    "                           verbose=0)\n",
    "\n",
    "    model.fit(X_train_, y_train_, eval_set=[(X_val, y_val)], eval_metric='logloss') \n",
    "\n",
    "    # oof\n",
    "    preds_val = model.predict(X_val)\n",
    "    score_oof.append(f1_score(y_val, preds_val))\n",
    "\n",
    "    print(\"Fold:\", fold + 1, \"F1-SCORE Validation %.3f\" % f1_score(y_val, preds_val))\n",
    "    print(\"---\")\n",
    "\n",
    "    # holdout\n",
    "    preds_test = model.predict(X_test)\n",
    "    preds_test_proba = model.predict_proba(X_test)[:, 1]\n",
    "\n",
    "    finish_test_preds.append(preds_test)\n",
    "    finish_test_preds_proba.append(preds_test_proba)\n",
    "\n",
    "    meta_X.loc[X_val.index, 'lgbm_01'] = model.predict_proba(X_val)[:, 1] \n",
    "\n",
    "print('F1-SCORE mean oof: %.3f, std: %.3f' % (np.mean(score_oof), np.std(score_oof)))\n",
    "\n",
    "meta_X_test['lgbm_01'] = np.mean(finish_test_preds_proba, axis=0)"
   ]
  },
  {
   "cell_type": "code",
   "execution_count": 16,
   "id": "2eb3636d-a543-402f-95f5-53e9f96b9088",
   "metadata": {},
   "outputs": [
    {
     "name": "stdout",
     "output_type": "stream",
     "text": [
      "F1-macro mean OOF: 0.713, std: 0.007\n",
      "F1-macro HOLDOUT: 0.713\n"
     ]
    }
   ],
   "source": [
    "# Находим моду по классам\n",
    "test_pred = stats.mode(np.column_stack(finish_test_preds), axis=1)[0]\n",
    "\n",
    "# Находим среднее по вероятностям\n",
    "test_pred_proba = np.mean(finish_test_preds_proba, axis=0)\n",
    "\n",
    "# Вычисляем F1-макро для валидации (OOF)\n",
    "print('F1-macro mean OOF: %.3f, std: %.3f' %\n",
    "      (np.mean(score_oof), np.std(score_oof)))\n",
    "\n",
    "# Вычисляем F1-макро для тестового набора\n",
    "f1_test = f1_score(y_test, test_pred, average='macro')\n",
    "print('F1-macro HOLDOUT: %.3f' % f1_test)"
   ]
  },
  {
   "cell_type": "code",
   "execution_count": 17,
   "id": "d7275319-006c-4f6e-9378-33ef8d9a5f58",
   "metadata": {},
   "outputs": [
    {
     "data": {
      "text/html": [
       "<div>\n",
       "<style scoped>\n",
       "    .dataframe tbody tr th:only-of-type {\n",
       "        vertical-align: middle;\n",
       "    }\n",
       "\n",
       "    .dataframe tbody tr th {\n",
       "        vertical-align: top;\n",
       "    }\n",
       "\n",
       "    .dataframe thead th {\n",
       "        text-align: right;\n",
       "    }\n",
       "</style>\n",
       "<table border=\"1\" class=\"dataframe\">\n",
       "  <thead>\n",
       "    <tr style=\"text-align: right;\">\n",
       "      <th></th>\n",
       "      <th>model</th>\n",
       "      <th>Accuracy</th>\n",
       "      <th>ROC_AUC</th>\n",
       "      <th>Logloss</th>\n",
       "      <th>Precision</th>\n",
       "      <th>Recall</th>\n",
       "      <th>f1</th>\n",
       "    </tr>\n",
       "  </thead>\n",
       "  <tbody>\n",
       "    <tr>\n",
       "      <th>0</th>\n",
       "      <td>Random Forest baseline Holdout</td>\n",
       "      <td>0.723859</td>\n",
       "      <td>0.819073</td>\n",
       "      <td>0.499654</td>\n",
       "      <td>0.739712</td>\n",
       "      <td>0.686724</td>\n",
       "      <td>0.712234</td>\n",
       "    </tr>\n",
       "    <tr>\n",
       "      <th>0</th>\n",
       "      <td>Catboost baseline Holdout</td>\n",
       "      <td>0.721008</td>\n",
       "      <td>0.823945</td>\n",
       "      <td>0.494296</td>\n",
       "      <td>0.737603</td>\n",
       "      <td>0.681948</td>\n",
       "      <td>0.708685</td>\n",
       "    </tr>\n",
       "    <tr>\n",
       "      <th>0</th>\n",
       "      <td>LightGBM baseline Holdout</td>\n",
       "      <td>0.712928</td>\n",
       "      <td>0.820036</td>\n",
       "      <td>0.497216</td>\n",
       "      <td>0.725790</td>\n",
       "      <td>0.680038</td>\n",
       "      <td>0.702170</td>\n",
       "    </tr>\n",
       "  </tbody>\n",
       "</table>\n",
       "</div>"
      ],
      "text/plain": [
       "                            model  Accuracy   ROC_AUC   Logloss  Precision  \\\n",
       "0  Random Forest baseline Holdout  0.723859  0.819073  0.499654   0.739712   \n",
       "0       Catboost baseline Holdout  0.721008  0.823945  0.494296   0.737603   \n",
       "0       LightGBM baseline Holdout  0.712928  0.820036  0.497216   0.725790   \n",
       "\n",
       "     Recall        f1  \n",
       "0  0.686724  0.712234  \n",
       "0  0.681948  0.708685  \n",
       "0  0.680038  0.702170  "
      ]
     },
     "execution_count": 17,
     "metadata": {},
     "output_type": "execute_result"
    }
   ],
   "source": [
    "df_metrics = pd.concat([df_metrics, get_metrics_classification(y_test, \n",
    "                                        test_pred, \n",
    "                                        test_pred_proba,\n",
    "                                        \"LightGBM baseline Holdout\")], axis=0)\n",
    "df_metrics"
   ]
  },
  {
   "cell_type": "code",
   "execution_count": 18,
   "id": "675fb8ac-b4a6-476f-aab5-27bc885342f6",
   "metadata": {},
   "outputs": [
    {
     "name": "stdout",
     "output_type": "stream",
     "text": [
      "ROC-AUC train: 0.915\n",
      "ROC-AUC test: 0.817\n",
      "delta = 12.0 %\n"
     ]
    },
    {
     "data": {
      "text/plain": [
       "(0.9152861986170211, 0.8173020360917663, 11.988733442266032)"
      ]
     },
     "execution_count": 18,
     "metadata": {},
     "output_type": "execute_result"
    }
   ],
   "source": [
    "check_overfitting_classification(model,\n",
    "                  X_train,\n",
    "                  y_train,\n",
    "                  X_test,\n",
    "                  y_test)"
   ]
  },
  {
   "cell_type": "code",
   "execution_count": 19,
   "id": "b1183b86-18f6-4ce2-9586-c5745c765da7",
   "metadata": {},
   "outputs": [
    {
     "data": {
      "text/html": [
       "<div>\n",
       "<style scoped>\n",
       "    .dataframe tbody tr th:only-of-type {\n",
       "        vertical-align: middle;\n",
       "    }\n",
       "\n",
       "    .dataframe tbody tr th {\n",
       "        vertical-align: top;\n",
       "    }\n",
       "\n",
       "    .dataframe thead th {\n",
       "        text-align: right;\n",
       "    }\n",
       "</style>\n",
       "<table border=\"1\" class=\"dataframe\">\n",
       "  <thead>\n",
       "    <tr style=\"text-align: right;\">\n",
       "      <th></th>\n",
       "      <th>rf_01</th>\n",
       "      <th>catboost_01</th>\n",
       "      <th>lgbm_01</th>\n",
       "    </tr>\n",
       "  </thead>\n",
       "  <tbody>\n",
       "    <tr>\n",
       "      <th>6309</th>\n",
       "      <td>0.94</td>\n",
       "      <td>0.960736</td>\n",
       "      <td>0.974764</td>\n",
       "    </tr>\n",
       "    <tr>\n",
       "      <th>218</th>\n",
       "      <td>0.20</td>\n",
       "      <td>0.283706</td>\n",
       "      <td>0.156880</td>\n",
       "    </tr>\n",
       "    <tr>\n",
       "      <th>3270</th>\n",
       "      <td>0.63</td>\n",
       "      <td>0.616160</td>\n",
       "      <td>0.588529</td>\n",
       "    </tr>\n",
       "    <tr>\n",
       "      <th>2101</th>\n",
       "      <td>0.31</td>\n",
       "      <td>0.360419</td>\n",
       "      <td>0.370514</td>\n",
       "    </tr>\n",
       "    <tr>\n",
       "      <th>2918</th>\n",
       "      <td>0.56</td>\n",
       "      <td>0.506338</td>\n",
       "      <td>0.427501</td>\n",
       "    </tr>\n",
       "    <tr>\n",
       "      <th>...</th>\n",
       "      <td>...</td>\n",
       "      <td>...</td>\n",
       "      <td>...</td>\n",
       "    </tr>\n",
       "    <tr>\n",
       "      <th>1323</th>\n",
       "      <td>0.42</td>\n",
       "      <td>0.564079</td>\n",
       "      <td>0.490108</td>\n",
       "    </tr>\n",
       "    <tr>\n",
       "      <th>6055</th>\n",
       "      <td>0.89</td>\n",
       "      <td>0.777810</td>\n",
       "      <td>0.904476</td>\n",
       "    </tr>\n",
       "    <tr>\n",
       "      <th>1898</th>\n",
       "      <td>0.63</td>\n",
       "      <td>0.528694</td>\n",
       "      <td>0.650589</td>\n",
       "    </tr>\n",
       "    <tr>\n",
       "      <th>7595</th>\n",
       "      <td>0.67</td>\n",
       "      <td>0.647198</td>\n",
       "      <td>0.543239</td>\n",
       "    </tr>\n",
       "    <tr>\n",
       "      <th>2523</th>\n",
       "      <td>0.59</td>\n",
       "      <td>0.762189</td>\n",
       "      <td>0.564565</td>\n",
       "    </tr>\n",
       "  </tbody>\n",
       "</table>\n",
       "<p>8412 rows × 3 columns</p>\n",
       "</div>"
      ],
      "text/plain": [
       "      rf_01  catboost_01   lgbm_01\n",
       "6309   0.94     0.960736  0.974764\n",
       "218    0.20     0.283706  0.156880\n",
       "3270   0.63     0.616160  0.588529\n",
       "2101   0.31     0.360419  0.370514\n",
       "2918   0.56     0.506338  0.427501\n",
       "...     ...          ...       ...\n",
       "1323   0.42     0.564079  0.490108\n",
       "6055   0.89     0.777810  0.904476\n",
       "1898   0.63     0.528694  0.650589\n",
       "7595   0.67     0.647198  0.543239\n",
       "2523   0.59     0.762189  0.564565\n",
       "\n",
       "[8412 rows x 3 columns]"
      ]
     },
     "execution_count": 19,
     "metadata": {},
     "output_type": "execute_result"
    }
   ],
   "source": [
    "meta_X"
   ]
  },
  {
   "cell_type": "code",
   "execution_count": 20,
   "id": "4be2b4e2-93f5-45bd-a7c7-256ed7315bbc",
   "metadata": {},
   "outputs": [
    {
     "data": {
      "text/html": [
       "<div>\n",
       "<style scoped>\n",
       "    .dataframe tbody tr th:only-of-type {\n",
       "        vertical-align: middle;\n",
       "    }\n",
       "\n",
       "    .dataframe tbody tr th {\n",
       "        vertical-align: top;\n",
       "    }\n",
       "\n",
       "    .dataframe thead th {\n",
       "        text-align: right;\n",
       "    }\n",
       "</style>\n",
       "<table border=\"1\" class=\"dataframe\">\n",
       "  <thead>\n",
       "    <tr style=\"text-align: right;\">\n",
       "      <th></th>\n",
       "      <th>rf_01</th>\n",
       "      <th>catboost_01</th>\n",
       "      <th>lgbm_01</th>\n",
       "    </tr>\n",
       "  </thead>\n",
       "  <tbody>\n",
       "    <tr>\n",
       "      <th>2004</th>\n",
       "      <td>0.316</td>\n",
       "      <td>0.397284</td>\n",
       "      <td>0.380385</td>\n",
       "    </tr>\n",
       "    <tr>\n",
       "      <th>5616</th>\n",
       "      <td>0.044</td>\n",
       "      <td>0.065483</td>\n",
       "      <td>0.048569</td>\n",
       "    </tr>\n",
       "    <tr>\n",
       "      <th>2635</th>\n",
       "      <td>0.214</td>\n",
       "      <td>0.338947</td>\n",
       "      <td>0.179918</td>\n",
       "    </tr>\n",
       "    <tr>\n",
       "      <th>7907</th>\n",
       "      <td>0.020</td>\n",
       "      <td>0.039754</td>\n",
       "      <td>0.023750</td>\n",
       "    </tr>\n",
       "    <tr>\n",
       "      <th>1667</th>\n",
       "      <td>0.946</td>\n",
       "      <td>0.947815</td>\n",
       "      <td>0.994234</td>\n",
       "    </tr>\n",
       "    <tr>\n",
       "      <th>...</th>\n",
       "      <td>...</td>\n",
       "      <td>...</td>\n",
       "      <td>...</td>\n",
       "    </tr>\n",
       "    <tr>\n",
       "      <th>8801</th>\n",
       "      <td>0.434</td>\n",
       "      <td>0.393050</td>\n",
       "      <td>0.436554</td>\n",
       "    </tr>\n",
       "    <tr>\n",
       "      <th>9389</th>\n",
       "      <td>0.454</td>\n",
       "      <td>0.459614</td>\n",
       "      <td>0.451510</td>\n",
       "    </tr>\n",
       "    <tr>\n",
       "      <th>4600</th>\n",
       "      <td>0.102</td>\n",
       "      <td>0.078093</td>\n",
       "      <td>0.073371</td>\n",
       "    </tr>\n",
       "    <tr>\n",
       "      <th>7297</th>\n",
       "      <td>0.072</td>\n",
       "      <td>0.094033</td>\n",
       "      <td>0.118452</td>\n",
       "    </tr>\n",
       "    <tr>\n",
       "      <th>1275</th>\n",
       "      <td>0.924</td>\n",
       "      <td>0.940379</td>\n",
       "      <td>0.960957</td>\n",
       "    </tr>\n",
       "  </tbody>\n",
       "</table>\n",
       "<p>2104 rows × 3 columns</p>\n",
       "</div>"
      ],
      "text/plain": [
       "      rf_01  catboost_01   lgbm_01\n",
       "2004  0.316     0.397284  0.380385\n",
       "5616  0.044     0.065483  0.048569\n",
       "2635  0.214     0.338947  0.179918\n",
       "7907  0.020     0.039754  0.023750\n",
       "1667  0.946     0.947815  0.994234\n",
       "...     ...          ...       ...\n",
       "8801  0.434     0.393050  0.436554\n",
       "9389  0.454     0.459614  0.451510\n",
       "4600  0.102     0.078093  0.073371\n",
       "7297  0.072     0.094033  0.118452\n",
       "1275  0.924     0.940379  0.960957\n",
       "\n",
       "[2104 rows x 3 columns]"
      ]
     },
     "execution_count": 20,
     "metadata": {},
     "output_type": "execute_result"
    }
   ],
   "source": [
    "meta_X_test"
   ]
  },
  {
   "cell_type": "code",
   "execution_count": 21,
   "id": "00f51f61-433c-43a5-8f6b-2cf827a7793c",
   "metadata": {},
   "outputs": [],
   "source": [
    "meta_X['index'] = meta_X.index"
   ]
  },
  {
   "cell_type": "code",
   "execution_count": 22,
   "id": "39df4e42-c6a0-4770-8040-6b626a98c16d",
   "metadata": {},
   "outputs": [],
   "source": [
    "meta_X_test['index'] = meta_X_test.index"
   ]
  },
  {
   "cell_type": "code",
   "execution_count": 23,
   "id": "07ebeda7-dd56-4976-a8fb-3ec9e138a266",
   "metadata": {},
   "outputs": [],
   "source": [
    "meta_X.to_csv('meta_X.csv', index=False)"
   ]
  },
  {
   "cell_type": "code",
   "execution_count": 24,
   "id": "3cafd80e-e1cf-46e0-bc40-37e8376a9fa7",
   "metadata": {},
   "outputs": [],
   "source": [
    "meta_X_test.to_csv('meta_X_test.csv', index=False)"
   ]
  },
  {
   "cell_type": "code",
   "execution_count": 25,
   "id": "0e83118c-700f-4122-af69-f2f09bd69344",
   "metadata": {},
   "outputs": [],
   "source": [
    "df_metrics.to_csv('models_metrics.csv', index=False)"
   ]
  },
  {
   "cell_type": "code",
   "execution_count": 26,
   "id": "4cf043f5-1dce-4482-bcfe-261ac16bd39a",
   "metadata": {},
   "outputs": [
    {
     "data": {
      "text/html": [
       "<div>\n",
       "<style scoped>\n",
       "    .dataframe tbody tr th:only-of-type {\n",
       "        vertical-align: middle;\n",
       "    }\n",
       "\n",
       "    .dataframe tbody tr th {\n",
       "        vertical-align: top;\n",
       "    }\n",
       "\n",
       "    .dataframe thead th {\n",
       "        text-align: right;\n",
       "    }\n",
       "</style>\n",
       "<table border=\"1\" class=\"dataframe\">\n",
       "  <thead>\n",
       "    <tr style=\"text-align: right;\">\n",
       "      <th></th>\n",
       "      <th>rf_01</th>\n",
       "      <th>catboost_01</th>\n",
       "      <th>lgbm_01</th>\n",
       "      <th>index</th>\n",
       "    </tr>\n",
       "  </thead>\n",
       "  <tbody>\n",
       "    <tr>\n",
       "      <th>6309</th>\n",
       "      <td>0.94</td>\n",
       "      <td>0.960736</td>\n",
       "      <td>0.974764</td>\n",
       "      <td>6309</td>\n",
       "    </tr>\n",
       "    <tr>\n",
       "      <th>218</th>\n",
       "      <td>0.20</td>\n",
       "      <td>0.283706</td>\n",
       "      <td>0.156880</td>\n",
       "      <td>218</td>\n",
       "    </tr>\n",
       "    <tr>\n",
       "      <th>3270</th>\n",
       "      <td>0.63</td>\n",
       "      <td>0.616160</td>\n",
       "      <td>0.588529</td>\n",
       "      <td>3270</td>\n",
       "    </tr>\n",
       "    <tr>\n",
       "      <th>2101</th>\n",
       "      <td>0.31</td>\n",
       "      <td>0.360419</td>\n",
       "      <td>0.370514</td>\n",
       "      <td>2101</td>\n",
       "    </tr>\n",
       "    <tr>\n",
       "      <th>2918</th>\n",
       "      <td>0.56</td>\n",
       "      <td>0.506338</td>\n",
       "      <td>0.427501</td>\n",
       "      <td>2918</td>\n",
       "    </tr>\n",
       "    <tr>\n",
       "      <th>...</th>\n",
       "      <td>...</td>\n",
       "      <td>...</td>\n",
       "      <td>...</td>\n",
       "      <td>...</td>\n",
       "    </tr>\n",
       "    <tr>\n",
       "      <th>1323</th>\n",
       "      <td>0.42</td>\n",
       "      <td>0.564079</td>\n",
       "      <td>0.490108</td>\n",
       "      <td>1323</td>\n",
       "    </tr>\n",
       "    <tr>\n",
       "      <th>6055</th>\n",
       "      <td>0.89</td>\n",
       "      <td>0.777810</td>\n",
       "      <td>0.904476</td>\n",
       "      <td>6055</td>\n",
       "    </tr>\n",
       "    <tr>\n",
       "      <th>1898</th>\n",
       "      <td>0.63</td>\n",
       "      <td>0.528694</td>\n",
       "      <td>0.650589</td>\n",
       "      <td>1898</td>\n",
       "    </tr>\n",
       "    <tr>\n",
       "      <th>7595</th>\n",
       "      <td>0.67</td>\n",
       "      <td>0.647198</td>\n",
       "      <td>0.543239</td>\n",
       "      <td>7595</td>\n",
       "    </tr>\n",
       "    <tr>\n",
       "      <th>2523</th>\n",
       "      <td>0.59</td>\n",
       "      <td>0.762189</td>\n",
       "      <td>0.564565</td>\n",
       "      <td>2523</td>\n",
       "    </tr>\n",
       "  </tbody>\n",
       "</table>\n",
       "<p>8412 rows × 4 columns</p>\n",
       "</div>"
      ],
      "text/plain": [
       "      rf_01  catboost_01   lgbm_01  index\n",
       "6309   0.94     0.960736  0.974764   6309\n",
       "218    0.20     0.283706  0.156880    218\n",
       "3270   0.63     0.616160  0.588529   3270\n",
       "2101   0.31     0.360419  0.370514   2101\n",
       "2918   0.56     0.506338  0.427501   2918\n",
       "...     ...          ...       ...    ...\n",
       "1323   0.42     0.564079  0.490108   1323\n",
       "6055   0.89     0.777810  0.904476   6055\n",
       "1898   0.63     0.528694  0.650589   1898\n",
       "7595   0.67     0.647198  0.543239   7595\n",
       "2523   0.59     0.762189  0.564565   2523\n",
       "\n",
       "[8412 rows x 4 columns]"
      ]
     },
     "execution_count": 26,
     "metadata": {},
     "output_type": "execute_result"
    }
   ],
   "source": [
    "meta_X"
   ]
  },
  {
   "cell_type": "code",
   "execution_count": null,
   "id": "b25c99e9-8e18-4473-870e-e4a2a9550537",
   "metadata": {},
   "outputs": [],
   "source": []
  }
 ],
 "metadata": {
  "kernelspec": {
   "display_name": "Python 3 (ipykernel)",
   "language": "python",
   "name": "python3"
  },
  "language_info": {
   "codemirror_mode": {
    "name": "ipython",
    "version": 3
   },
   "file_extension": ".py",
   "mimetype": "text/x-python",
   "name": "python",
   "nbconvert_exporter": "python",
   "pygments_lexer": "ipython3",
   "version": "3.12.8"
  }
 },
 "nbformat": 4,
 "nbformat_minor": 5
}
